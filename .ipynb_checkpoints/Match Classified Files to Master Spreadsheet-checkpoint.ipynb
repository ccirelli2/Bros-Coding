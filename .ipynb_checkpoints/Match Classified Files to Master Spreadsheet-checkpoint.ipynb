{
 "cells": [
  {
   "cell_type": "code",
   "execution_count": null,
   "metadata": {},
   "outputs": [],
   "source": [
    "'''Purpose\n",
    "\n",
    "The purpose of this code is to match the text files that have been classified with the master Excel spreadsheet of all \n",
    "files.\n",
    "\n",
    "Approach:\n",
    "- Create a dictionary object whose keys are the names of the folders within which are the text files. \n",
    "- Create a regex expression that identifies the unique patter in the text file. \n",
    "- Read the Master file into Python as a dataframe. \n",
    "- Iterate over the list of text files, match the expression to the column. \n",
    "- Create a new column that will capture the file name and match. \n",
    "- Append that column to the Master File dataframe in memory. \n",
    "- Write back to Excel. \n",
    "'''"
   ]
  },
  {
   "cell_type": "code",
   "execution_count": null,
   "metadata": {},
   "outputs": [],
   "source": []
  },
  {
   "cell_type": "code",
   "execution_count": null,
   "metadata": {},
   "outputs": [],
   "source": [
    "# IMPORT PACKAGES"
   ]
  },
  {
   "cell_type": "code",
   "execution_count": 5,
   "metadata": {},
   "outputs": [],
   "source": [
    "import os\n",
    "import re\n",
    "import pandas as pd"
   ]
  },
  {
   "cell_type": "code",
   "execution_count": null,
   "metadata": {},
   "outputs": [],
   "source": []
  },
  {
   "cell_type": "code",
   "execution_count": null,
   "metadata": {},
   "outputs": [],
   "source": [
    "# DEFINE TARGET DIRECTORY"
   ]
  },
  {
   "cell_type": "code",
   "execution_count": 32,
   "metadata": {},
   "outputs": [],
   "source": [
    "os.chdir('I:\\Legal Analytics Sprint-S18\\Team Folders\\Team Wang\\Files Converted to Txt')"
   ]
  },
  {
   "cell_type": "code",
   "execution_count": null,
   "metadata": {},
   "outputs": [],
   "source": []
  },
  {
   "cell_type": "code",
   "execution_count": null,
   "metadata": {},
   "outputs": [],
   "source": [
    "# DEFINE LIST OF TEXT FILES"
   ]
  },
  {
   "cell_type": "code",
   "execution_count": 33,
   "metadata": {},
   "outputs": [],
   "source": [
    "List_txt_files = [file for file in os.listdir() if '.txt' in file]"
   ]
  },
  {
   "cell_type": "code",
   "execution_count": 34,
   "metadata": {},
   "outputs": [
    {
     "data": {
      "text/plain": [
       "['GA_Northern_1_15-cv-04247-TWT_26.txt',\n",
       " 'GA_Northern_1_15-cv-04247-TWT_32.txt',\n",
       " 'GA_Northern_1_15-cv-04249-ODE_4.txt',\n",
       " 'GA_Northern_1_15-cv-04258-AT_0.txt',\n",
       " 'GA_Northern_1_15-cv-04260-CC_0.txt',\n",
       " 'GA_Northern_1_15-cv-04260-CC_8.txt',\n",
       " 'GA_Northern_1_15-cv-04264-AT_0.txt']"
      ]
     },
     "execution_count": 34,
     "metadata": {},
     "output_type": "execute_result"
    }
   ],
   "source": [
    "List_txt_files[3:10]"
   ]
  },
  {
   "cell_type": "code",
   "execution_count": null,
   "metadata": {},
   "outputs": [],
   "source": []
  },
  {
   "cell_type": "code",
   "execution_count": null,
   "metadata": {},
   "outputs": [],
   "source": [
    "# READ IN AS A DATAFRAME THE MASTER CASE FILE"
   ]
  },
  {
   "cell_type": "code",
   "execution_count": 11,
   "metadata": {},
   "outputs": [],
   "source": [
    "os.chdir(r'C:\\Users\\Chris.Cirelli\\Desktop')\n",
    "File = 'Master_case_list.xlsx'\n",
    "df_master_case = pd.read_excel(File)\n",
    "Case_number = df_master_case['case_number']"
   ]
  },
  {
   "cell_type": "code",
   "execution_count": null,
   "metadata": {},
   "outputs": [],
   "source": []
  },
  {
   "cell_type": "code",
   "execution_count": null,
   "metadata": {},
   "outputs": [],
   "source": [
    "# CREATE A REGEX EXPRESSION TO EXTRACT CASE NUMBER"
   ]
  },
  {
   "cell_type": "code",
   "execution_count": 25,
   "metadata": {},
   "outputs": [],
   "source": [
    "Regex = re.compile('[0-9]*-cv-[0-9]*')"
   ]
  },
  {
   "cell_type": "code",
   "execution_count": null,
   "metadata": {},
   "outputs": [],
   "source": [
    "# Test on Master File Case Number Column "
   ]
  },
  {
   "cell_type": "code",
   "execution_count": 46,
   "metadata": {},
   "outputs": [],
   "source": [
    "Test_case_number = map(lambda x: re.search(Regex, x), Case_number)"
   ]
  },
  {
   "cell_type": "code",
   "execution_count": 49,
   "metadata": {},
   "outputs": [
    {
     "name": "stdout",
     "output_type": "stream",
     "text": [
      "<_sre.SRE_Match object; span=(2, 13), match='10-cv-00002'>\n"
     ]
    }
   ],
   "source": [
    "print(next(Test_case_number))"
   ]
  },
  {
   "cell_type": "code",
   "execution_count": 50,
   "metadata": {},
   "outputs": [],
   "source": [
    "# Test on List of text files"
   ]
  },
  {
   "cell_type": "code",
   "execution_count": 45,
   "metadata": {},
   "outputs": [],
   "source": [
    "Test_file_list = map(lambda x: re.search(Regex, x), List_txt_files)"
   ]
  },
  {
   "cell_type": "code",
   "execution_count": 44,
   "metadata": {},
   "outputs": [
    {
     "name": "stdout",
     "output_type": "stream",
     "text": [
      "<_sre.SRE_Match object; span=(14, 25), match='15-cv-04247'>\n"
     ]
    }
   ],
   "source": [
    "print(next(Test_file_list))"
   ]
  },
  {
   "cell_type": "code",
   "execution_count": null,
   "metadata": {},
   "outputs": [],
   "source": []
  },
  {
   "cell_type": "code",
   "execution_count": null,
   "metadata": {},
   "outputs": [],
   "source": [
    "# DEFINE MATCH FUNCTION"
   ]
  },
  {
   "cell_type": "code",
   "execution_count": 120,
   "metadata": {},
   "outputs": [],
   "source": [
    "def match_function():\n",
    "    '''The purpose of this function is to match the files that have been categorized with those listed in the Master\n",
    "       case file document.  Once matched, the function should write to the Excel spreadsheet the correct classification. \n",
    "    \n",
    "    Input   = 1.) Directory where the case files are located; 2.) List of case files; 3.) Master Case File Excel Doc\n",
    "    Output  = None;  Function should write to the Master Case File Excel Doc. \n",
    "    '''\n",
    "    # Get List Text Files\n",
    "    Location_legal_docs = os.chdir(r'C:\\Users\\Chris.Cirelli\\Desktop\\Python Programming Docs\\GSU\\Sprint Project\\Legal Docs')\n",
    "    Directory_list = os.listdir()\n",
    "    List_text_files = [file for file in Directory_list if '.txt' in file]\n",
    "    \n",
    "    # Get Category of Text Files \n",
    "    '''This category is based on the fact that Sids code buckets the files into folders that are given the category name'''\n",
    "    Cwd = os.getcwd()\n",
    "    Split_cwd= Cwd.split('\\\\')\n",
    "    Text_category = Split_cwd[-1]\n",
    "    \n",
    "    # Read the Master Case File into a dataframe\n",
    "    os.chdir(r'C:\\Users\\Chris.Cirelli\\Desktop')\n",
    "    File = 'Master_case_list.xlsx'\n",
    "    df_master_case = pd.read_excel(File)\n",
    "    Master_case_file_ListCaseNumber = df_master_case['case_number']\n",
    "    \n",
    "    # Define Regex Expression to obtain unique file number\n",
    "    Regex = re.compile('[0-9]*-cv-[0-9]*')\n",
    "    \n",
    "    # Create a list to capture the case number for the master case files\n",
    "    Master_case_file_List_case_code = []\n",
    "    \n",
    "    # Loop over the dataframe case file column\n",
    "    for filename in Master_case_file_ListCaseNumber:\n",
    "        # Search for pattern\n",
    "        Re_search = re.search(Regex, filename)\n",
    "        # if pattern not found\n",
    "        if Re_search == None:\n",
    "            Master_case_file_List_case_code.append('no match')\n",
    "        # if pattern cound\n",
    "        else:\n",
    "            Match = Re_search.group()\n",
    "            Master_case_file_List_case_code.append(Match)\n",
    "    \n",
    "    # Create a list to capture the case number for the list of files in the target directory\n",
    "    List_text_files_case_code = []\n",
    "    \n",
    "    # Loop over the dataframe case file column\n",
    "    for filename in List_text_files:\n",
    "        # Search for pattern\n",
    "        Re_search = re.search(Regex, filename)\n",
    "        # if pattern not found\n",
    "        if Re_search == None:\n",
    "            List_text_files_case_code.append('no match')\n",
    "        # if pattern cound\n",
    "        else:\n",
    "            Match = Re_search.group()\n",
    "            List_text_files_case_code.append(Match)\n",
    "    \n",
    "    # Append an additional row to the Master Case File DataFrame to use as the matching Value\n",
    "    df_master_case['Case_Code'] = Master_case_file_List_case_code\n",
    "    \n",
    "    # Create List that Represents the Matching Values \n",
    "    \n",
    "    List_match_to_master_code_file = []\n",
    "    \n",
    "    for case_code in df_master_case['Case_Code']:\n",
    "        if case_code in List_text_files_case_code:\n",
    "            List_match_to_master_code_file.append(Text_category)\n",
    "        else:\n",
    "            List_match_to_master_code_file.append('no match found')\n",
    "    \n",
    "    # Add this new list as a new column in the master dataframe\n",
    "    \n",
    "    df_master_case['File Classification'] = List_match_to_master_code_file\n",
    "    \n",
    "    \n",
    "    return df_master_case\n",
    "    \n",
    "    "
   ]
  },
  {
   "cell_type": "code",
   "execution_count": 122,
   "metadata": {},
   "outputs": [],
   "source": [
    "Dataframe = match_function()"
   ]
  },
  {
   "cell_type": "code",
   "execution_count": 125,
   "metadata": {},
   "outputs": [],
   "source": [
    "Dataframe_File_class = Dataframe['File Classification']\n",
    "Limit = Dataframe_File_class != 'no match found'\n",
    "New_frame = Dataframe_File_class[Limit]"
   ]
  },
  {
   "cell_type": "code",
   "execution_count": 126,
   "metadata": {},
   "outputs": [
    {
     "data": {
      "text/plain": [
       "3818    Legal Docs\n",
       "3819    Legal Docs\n",
       "3820    Legal Docs\n",
       "3821    Legal Docs\n",
       "3822    Legal Docs\n",
       "3823    Legal Docs\n",
       "3824    Legal Docs\n",
       "3825    Legal Docs\n",
       "3826    Legal Docs\n",
       "3827    Legal Docs\n",
       "3828    Legal Docs\n",
       "3829    Legal Docs\n",
       "3854    Legal Docs\n",
       "Name: File Classification, dtype: object"
      ]
     },
     "execution_count": 126,
     "metadata": {},
     "output_type": "execute_result"
    }
   ],
   "source": [
    "New_frame"
   ]
  },
  {
   "cell_type": "code",
   "execution_count": null,
   "metadata": {},
   "outputs": [],
   "source": []
  },
  {
   "cell_type": "code",
   "execution_count": null,
   "metadata": {},
   "outputs": [],
   "source": []
  }
 ],
 "metadata": {
  "kernelspec": {
   "display_name": "Python 3",
   "language": "python",
   "name": "python3"
  },
  "language_info": {
   "codemirror_mode": {
    "name": "ipython",
    "version": 3
   },
   "file_extension": ".py",
   "mimetype": "text/x-python",
   "name": "python",
   "nbconvert_exporter": "python",
   "pygments_lexer": "ipython3",
   "version": "3.6.1"
  }
 },
 "nbformat": 4,
 "nbformat_minor": 2
}
